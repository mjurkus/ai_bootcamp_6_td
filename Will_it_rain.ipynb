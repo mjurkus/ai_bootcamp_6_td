{
 "cells": [
  {
   "cell_type": "code",
   "execution_count": 1,
   "metadata": {},
   "outputs": [],
   "source": [
    "%load_ext autoreload\n",
    "%autoreload 2"
   ]
  },
  {
   "cell_type": "markdown",
   "metadata": {},
   "source": [
    "## Imports and data loading"
   ]
  },
  {
   "cell_type": "code",
   "execution_count": 186,
   "metadata": {},
   "outputs": [],
   "source": [
    "from toai_ml_toolkit.imports import *\n",
    "from toai_ml_toolkit.transformers import *\n",
    "from toai_ml_toolkit.graphs import *\n",
    "from sklearn.model_selection import TimeSeriesSplit"
   ]
  },
  {
   "cell_type": "code",
   "execution_count": 3,
   "metadata": {},
   "outputs": [],
   "source": [
    "DATA_DIR = Path('data')\n",
    "TEMP_DIR = Path('tmp')"
   ]
  },
  {
   "cell_type": "code",
   "execution_count": 130,
   "metadata": {},
   "outputs": [],
   "source": [
    "df = pd.read_csv(DATA_DIR/'weatherAUS.csv', low_memory=False, parse_dates=['Date'])"
   ]
  },
  {
   "cell_type": "markdown",
   "metadata": {},
   "source": [
    "### Data splitting and cleanup"
   ]
  },
  {
   "cell_type": "markdown",
   "metadata": {},
   "source": [
    "Since we have a time series data and location based data we need to group them by Location and only then take data from each group for train/val/test data sets"
   ]
  },
  {
   "cell_type": "code",
   "execution_count": 94,
   "metadata": {},
   "outputs": [],
   "source": [
    "def split_df(data, test_size):\n",
    "    train_data = pd.DataFrame(columns=data.columns)\n",
    "    test_data = pd.DataFrame(columns=data.columns)\n",
    "    val_data = pd.DataFrame(columns=data.columns)\n",
    "    \n",
    "    temp_data = pd.DataFrame(columns=data.columns)\n",
    "    gb = data.groupby('Location')    \n",
    "    groups = [gb.get_group(x) for x in gb.groups]\n",
    "    for group in groups:\n",
    "        t_len = int((len(group) * test_size))\n",
    "        temp_data = temp_data.append(group[-t_len:])\n",
    "        train_data = train_data.append(group[:-t_len])\n",
    "    \n",
    "    gb = temp_data.groupby('Location')    \n",
    "    groups = [gb.get_group(x) for x in gb.groups]\n",
    "    for group in groups:\n",
    "        g_len = int((len(group) * 0.5))\n",
    "        val_data = val_data.append(group[:g_len])\n",
    "        test_data = test_data.append(group[g_len:])\n",
    "    \n",
    "    for df in train_data, val_data, test_data:\n",
    "        df.reset_index(drop=True, inplace=True)\n",
    "    \n",
    "    return train_data, val_data, test_data"
   ]
  },
  {
   "cell_type": "markdown",
   "metadata": {},
   "source": [
    "Data param class for easier data managemet"
   ]
  },
  {
   "cell_type": "code",
   "execution_count": 188,
   "metadata": {},
   "outputs": [],
   "source": [
    "class DataParams:\n",
    "    def __init__(self, target, categorical=None, continuous=None):\n",
    "        self.target = target\n",
    "        self.features = categorical + continuous\n",
    "        self.categorical = categorical\n",
    "        self.continuous = continuous"
   ]
  },
  {
   "cell_type": "markdown",
   "metadata": {},
   "source": [
    "Rudimentary data cleanum before preprocessing. Replacing labels `Yes`, `No` with 0 and 1"
   ]
  },
  {
   "cell_type": "code",
   "execution_count": 131,
   "metadata": {},
   "outputs": [],
   "source": [
    "df.replace({'RainToday': {'Yes': 1, 'No': 0}}, inplace=True)\n",
    "df.replace({'RainTomorrow': {'Yes': 1, 'No': 0}}, inplace=True)\n",
    "df['RainToday'].fillna(0, inplace=True)"
   ]
  },
  {
   "cell_type": "code",
   "execution_count": 132,
   "metadata": {
    "scrolled": true
   },
   "outputs": [
    {
     "name": "stdout",
     "output_type": "stream",
     "text": [
      "<class 'pandas.core.frame.DataFrame'>\n",
      "RangeIndex: 142193 entries, 0 to 142192\n",
      "Data columns (total 24 columns):\n",
      "Date             142193 non-null datetime64[ns]\n",
      "Location         142193 non-null object\n",
      "MinTemp          141556 non-null float64\n",
      "MaxTemp          141871 non-null float64\n",
      "Rainfall         140787 non-null float64\n",
      "Evaporation      81350 non-null float64\n",
      "Sunshine         74377 non-null float64\n",
      "WindGustDir      132863 non-null object\n",
      "WindGustSpeed    132923 non-null float64\n",
      "WindDir9am       132180 non-null object\n",
      "WindDir3pm       138415 non-null object\n",
      "WindSpeed9am     140845 non-null float64\n",
      "WindSpeed3pm     139563 non-null float64\n",
      "Humidity9am      140419 non-null float64\n",
      "Humidity3pm      138583 non-null float64\n",
      "Pressure9am      128179 non-null float64\n",
      "Pressure3pm      128212 non-null float64\n",
      "Cloud9am         88536 non-null float64\n",
      "Cloud3pm         85099 non-null float64\n",
      "Temp9am          141289 non-null float64\n",
      "Temp3pm          139467 non-null float64\n",
      "RainToday        142193 non-null float64\n",
      "RISK_MM          142193 non-null float64\n",
      "RainTomorrow     142193 non-null int64\n",
      "dtypes: datetime64[ns](1), float64(18), int64(1), object(4)\n",
      "memory usage: 26.0+ MB\n"
     ]
    }
   ],
   "source": [
    "df.info()"
   ]
  },
  {
   "cell_type": "code",
   "execution_count": 133,
   "metadata": {},
   "outputs": [],
   "source": [
    "data_params = DataParams(\n",
    "    target='RainTomorrow',\n",
    "    categorical=[\n",
    "        \"Location\",\n",
    "        \"WindGustDir\",\n",
    "        \"WindDir9am\",\n",
    "        \"WindDir3pm\",\n",
    "        \"RainToday\",\n",
    "    ],\n",
    "    continuous=[\n",
    "        \"MinTemp\",\n",
    "        \"MaxTemp\",\n",
    "        \"Rainfall\",\n",
    "        \"Evaporation\",\n",
    "        \"Sunshine\",\n",
    "        \"WindGustSpeed\",\n",
    "        \"WindSpeed9am\",\n",
    "        \"WindSpeed3pm\",\n",
    "        \"Humidity9am\",\n",
    "        \"Humidity3pm\",\n",
    "        \"Pressure9am\",\n",
    "        \"Pressure3pm\",\n",
    "        \"Cloud9am\",\n",
    "        \"Cloud3pm\",\n",
    "        \"Temp9am\",\n",
    "        \"Temp3pm\",\n",
    "        \"RISK_MM\"\n",
    "    ],\n",
    ")"
   ]
  },
  {
   "cell_type": "code",
   "execution_count": 225,
   "metadata": {},
   "outputs": [],
   "source": [
    "train_data, val_data, test_data = split_df(df, 0.4)"
   ]
  },
  {
   "cell_type": "code",
   "execution_count": 159,
   "metadata": {
    "scrolled": true
   },
   "outputs": [
    {
     "data": {
      "text/plain": [
       "[(85334, 24), (28417, 24), (28442, 24)]"
      ]
     },
     "execution_count": 159,
     "metadata": {},
     "output_type": "execute_result"
    }
   ],
   "source": [
    "[x.shape for x in (train_data, val_data, test_data)]"
   ]
  },
  {
   "cell_type": "code",
   "execution_count": 138,
   "metadata": {
    "scrolled": true
   },
   "outputs": [
    {
     "name": "stdout",
     "output_type": "stream",
     "text": [
      "<class 'pandas.core.frame.DataFrame'>\n",
      "RangeIndex: 85334 entries, 0 to 85333\n",
      "Data columns (total 24 columns):\n",
      "Date             85334 non-null datetime64[ns]\n",
      "Location         85334 non-null object\n",
      "MinTemp          84926 non-null float64\n",
      "MaxTemp          85152 non-null float64\n",
      "Rainfall         84562 non-null float64\n",
      "Evaporation      53832 non-null float64\n",
      "Sunshine         50481 non-null float64\n",
      "WindGustDir      79375 non-null object\n",
      "WindGustSpeed    79414 non-null float64\n",
      "WindDir9am       79250 non-null object\n",
      "WindDir3pm       83714 non-null object\n",
      "WindSpeed9am     84473 non-null float64\n",
      "WindSpeed3pm     84469 non-null float64\n",
      "Humidity9am      84123 non-null float64\n",
      "Humidity3pm      84138 non-null float64\n",
      "Pressure9am      77629 non-null float64\n",
      "Pressure3pm      77662 non-null float64\n",
      "Cloud9am         54361 non-null float64\n",
      "Cloud3pm         53333 non-null float64\n",
      "Temp9am          84592 non-null float64\n",
      "Temp3pm          84642 non-null float64\n",
      "RainToday        85334 non-null float64\n",
      "RISK_MM          85334 non-null float64\n",
      "RainTomorrow     85334 non-null object\n",
      "dtypes: datetime64[ns](1), float64(18), object(5)\n",
      "memory usage: 15.6+ MB\n"
     ]
    }
   ],
   "source": [
    "train_data.info()"
   ]
  },
  {
   "cell_type": "markdown",
   "metadata": {},
   "source": [
    "### RF and NN model data preprocessing pipeline"
   ]
  },
  {
   "cell_type": "code",
   "execution_count": 160,
   "metadata": {},
   "outputs": [],
   "source": [
    "cat_pipeline = Pipeline([\n",
    "    ('imputer', CategoricalInputer()),\n",
    "    ('encoder', CategoricalEncoder()),\n",
    "])"
   ]
  },
  {
   "cell_type": "code",
   "execution_count": 161,
   "metadata": {},
   "outputs": [],
   "source": [
    "num_pipeline = Pipeline([\n",
    "    ('imputer', NumericInputer()),\n",
    "    ('polynomial_features', PolynomialFeatures()),\n",
    "    ('scaler', RobustScaler()),\n",
    "])"
   ]
  },
  {
   "cell_type": "code",
   "execution_count": 162,
   "metadata": {},
   "outputs": [],
   "source": [
    "preprocess_pipeline = ColumnTransformer([\n",
    "    (\"num\", num_pipeline, data_params.continuous),\n",
    "    (\"cat\", cat_pipeline, data_params.categorical),\n",
    "])"
   ]
  },
  {
   "cell_type": "code",
   "execution_count": 163,
   "metadata": {},
   "outputs": [],
   "source": [
    "train_labels = train_data[data_params.target].astype(int)\n",
    "prep_train_data = preprocess_pipeline.fit_transform(train_data[data_params.features])\n",
    "val_labels = val_data[data_params.target].astype(int)\n",
    "prep_val_data = preprocess_pipeline.transform(val_data[data_params.features])"
   ]
  },
  {
   "cell_type": "markdown",
   "metadata": {},
   "source": [
    "## RFC Model"
   ]
  },
  {
   "cell_type": "code",
   "execution_count": 143,
   "metadata": {},
   "outputs": [],
   "source": [
    "rfc = RandomForestClassifier(\n",
    "    n_estimators=100,\n",
    "    min_samples_leaf=5,\n",
    "    n_jobs=-1\n",
    ")"
   ]
  },
  {
   "cell_type": "code",
   "execution_count": 164,
   "metadata": {
    "scrolled": true
   },
   "outputs": [
    {
     "data": {
      "text/plain": [
       "RandomForestClassifier(bootstrap=True, class_weight=None, criterion='gini',\n",
       "                       max_depth=None, max_features='auto', max_leaf_nodes=None,\n",
       "                       min_impurity_decrease=0.0, min_impurity_split=None,\n",
       "                       min_samples_leaf=5, min_samples_split=2,\n",
       "                       min_weight_fraction_leaf=0.0, n_estimators=100,\n",
       "                       n_jobs=-1, oob_score=False, random_state=None, verbose=0,\n",
       "                       warm_start=False)"
      ]
     },
     "execution_count": 164,
     "metadata": {},
     "output_type": "execute_result"
    }
   ],
   "source": [
    "rfc.fit(prep_train_data, train_labels.values)"
   ]
  },
  {
   "cell_type": "code",
   "execution_count": 165,
   "metadata": {},
   "outputs": [],
   "source": [
    "rfc_predictions = rfc.predict(prep_val_data)"
   ]
  },
  {
   "cell_type": "code",
   "execution_count": 166,
   "metadata": {
    "scrolled": true
   },
   "outputs": [
    {
     "name": "stdout",
     "output_type": "stream",
     "text": [
      "              precision    recall  f1-score   support\n",
      "\n",
      "           0       1.00      1.00      1.00     22096\n",
      "           1       1.00      1.00      1.00      6321\n",
      "\n",
      "    accuracy                           1.00     28417\n",
      "   macro avg       1.00      1.00      1.00     28417\n",
      "weighted avg       1.00      1.00      1.00     28417\n",
      "\n"
     ]
    }
   ],
   "source": [
    "print(classification_report(val_labels.values.astype(int), rfc_predictions))"
   ]
  },
  {
   "cell_type": "markdown",
   "metadata": {},
   "source": [
    "Insane accuracy!!!"
   ]
  },
  {
   "cell_type": "markdown",
   "metadata": {},
   "source": [
    "## NN Model"
   ]
  },
  {
   "cell_type": "code",
   "execution_count": 167,
   "metadata": {},
   "outputs": [],
   "source": [
    "def make_model(input_shape, layer_size, dropout_rate=0.0, n_layers=1, regularization=None, batch_norm=True):\n",
    "    layers = [\n",
    "        keras.layers.InputLayer(input_shape=input_shape)\n",
    "      ]\n",
    "  \n",
    "    for _ in range(n_layers):\n",
    "        if batch_norm:\n",
    "            layers += [keras.layers.BatchNormalization()]\n",
    "    \n",
    "        layers += [\n",
    "            keras.layers.Dense(\n",
    "                layer_size,\n",
    "                kernel_initializer=\"he_uniform\",\n",
    "                kernel_regularizer=regularization and keras.regularizers.l1_l2(*regularization),\n",
    "            ),\n",
    "            keras.layers.LeakyReLU(),\n",
    "            keras.layers.Dropout(dropout_rate)\n",
    "        ]\n",
    "    \n",
    "    layers += [keras.layers.Dense(1, activation=\"sigmoid\")]\n",
    "  \n",
    "    return keras.Sequential(layers)"
   ]
  },
  {
   "cell_type": "code",
   "execution_count": 168,
   "metadata": {},
   "outputs": [],
   "source": [
    "nn_model = make_model(\n",
    "    input_shape=prep_train_data.shape[1:],\n",
    "    layer_size=64, \n",
    "    dropout_rate=0.2, \n",
    "    n_layers=1, \n",
    "    regularization=(1e-5, 1e-4), \n",
    "    batch_norm=True,\n",
    ")"
   ]
  },
  {
   "cell_type": "code",
   "execution_count": 169,
   "metadata": {},
   "outputs": [],
   "source": [
    "nn_model.compile(\n",
    "    optimizer = keras.optimizers.Adam(lr=1e-3),\n",
    "    loss = keras.losses.binary_crossentropy,\n",
    "    metrics = [\n",
    "        keras.metrics.binary_accuracy\n",
    "    ]\n",
    ")"
   ]
  },
  {
   "cell_type": "code",
   "execution_count": 170,
   "metadata": {
    "collapsed": true
   },
   "outputs": [
    {
     "name": "stderr",
     "output_type": "stream",
     "text": [
      "WARNING: Logging before flag parsing goes to stderr.\n",
      "W0808 13:00:47.021396 4592686528 deprecation.py:323] From /usr/local/lib/python3.7/site-packages/tensorflow/python/ops/math_grad.py:1250: add_dispatch_support.<locals>.wrapper (from tensorflow.python.ops.array_ops) is deprecated and will be removed in a future version.\n",
      "Instructions for updating:\n",
      "Use tf.where in 2.0, which has the same broadcast rule as np.where\n"
     ]
    },
    {
     "name": "stdout",
     "output_type": "stream",
     "text": [
      "Train on 85334 samples, validate on 28417 samples\n",
      "Epoch 1/100\n",
      "85334/85334 [==============================] - 5s 55us/sample - loss: 0.2177 - binary_accuracy: 0.9272 - val_loss: 0.1707 - val_binary_accuracy: 0.9477\n",
      "Epoch 2/100\n",
      "85334/85334 [==============================] - 4s 49us/sample - loss: 0.1474 - binary_accuracy: 0.9567 - val_loss: 0.1412 - val_binary_accuracy: 0.9662\n",
      "Epoch 3/100\n",
      "85334/85334 [==============================] - 4s 47us/sample - loss: 0.1336 - binary_accuracy: 0.9609 - val_loss: 0.1377 - val_binary_accuracy: 0.9655\n",
      "Epoch 4/100\n",
      "85334/85334 [==============================] - 4s 48us/sample - loss: 0.1333 - binary_accuracy: 0.9604 - val_loss: 0.1279 - val_binary_accuracy: 0.97425 - binary_accuracy: 0. - ETA: 0s - loss: 0.1308 - bina\n",
      "Epoch 5/100\n",
      "85334/85334 [==============================] - 4s 47us/sample - loss: 0.1252 - binary_accuracy: 0.9640 - val_loss: 0.1162 - val_binary_accuracy: 0.9750\n",
      "Epoch 6/100\n",
      "85334/85334 [==============================] - 4s 48us/sample - loss: 0.1187 - binary_accuracy: 0.9648 - val_loss: 0.1127 - val_binary_accuracy: 0.9758\n",
      "Epoch 7/100\n",
      "85334/85334 [==============================] - 4s 48us/sample - loss: 0.1205 - binary_accuracy: 0.9639 - val_loss: 0.1119 - val_binary_accuracy: 0.97659\n",
      "Epoch 8/100\n",
      "85334/85334 [==============================] - 4s 48us/sample - loss: 0.1137 - binary_accuracy: 0.9664 - val_loss: 0.1056 - val_binary_accuracy: 0.9785\n",
      "Epoch 9/100\n",
      "85334/85334 [==============================] - 4s 47us/sample - loss: 0.1144 - binary_accuracy: 0.9649 - val_loss: 0.1173 - val_binary_accuracy: 0.9769\n",
      "Epoch 10/100\n",
      "85334/85334 [==============================] - 4s 46us/sample - loss: 0.1184 - binary_accuracy: 0.9648 - val_loss: 0.1216 - val_binary_accuracy: 0.9745\n",
      "Epoch 11/100\n",
      "85334/85334 [==============================] - 4s 48us/sample - loss: 0.1101 - binary_accuracy: 0.9660 - val_loss: 0.1059 - val_binary_accuracy: 0.9806\n",
      "Epoch 12/100\n",
      "85334/85334 [==============================] - 4s 47us/sample - loss: 0.1090 - binary_accuracy: 0.9647 - val_loss: 0.0996 - val_binary_accuracy: 0.9784\n",
      "Epoch 13/100\n",
      "85334/85334 [==============================] - 4s 47us/sample - loss: 0.1082 - binary_accuracy: 0.9665 - val_loss: 0.1015 - val_binary_accuracy: 0.9781\n",
      "Epoch 14/100\n",
      "85334/85334 [==============================] - 4s 47us/sample - loss: 0.1072 - binary_accuracy: 0.9656 - val_loss: 0.0879 - val_binary_accuracy: 0.9786\n",
      "Epoch 15/100\n",
      "85334/85334 [==============================] - 4s 46us/sample - loss: 0.1069 - binary_accuracy: 0.9656 - val_loss: 0.0941 - val_binary_accuracy: 0.9789\n",
      "Epoch 16/100\n",
      "85334/85334 [==============================] - 4s 46us/sample - loss: 0.1045 - binary_accuracy: 0.9663 - val_loss: 0.0995 - val_binary_accuracy: 0.9811\n",
      "Epoch 17/100\n",
      "85334/85334 [==============================] - 4s 47us/sample - loss: 0.1041 - binary_accuracy: 0.9664 - val_loss: 0.0867 - val_binary_accuracy: 0.9772\n",
      "Epoch 18/100\n",
      "85334/85334 [==============================] - 4s 50us/sample - loss: 0.1045 - binary_accuracy: 0.9649 - val_loss: 0.0878 - val_binary_accuracy: 0.9790 2 - ETA: 0s - loss: 0.1039 - binary_accuracy:\n",
      "Epoch 19/100\n",
      "85334/85334 [==============================] - 5s 55us/sample - loss: 0.1003 - binary_accuracy: 0.9664 - val_loss: 0.0987 - val_binary_accuracy: 0.9773\n",
      "Epoch 20/100\n",
      "85334/85334 [==============================] - 4s 45us/sample - loss: 0.1026 - binary_accuracy: 0.9668 - val_loss: 0.1015 - val_binary_accuracy: 0.9763\n",
      "Epoch 21/100\n",
      "85334/85334 [==============================] - 4s 47us/sample - loss: 0.1013 - binary_accuracy: 0.9660 - val_loss: 0.0849 - val_binary_accuracy: 0.9789\n",
      "Epoch 22/100\n",
      "85334/85334 [==============================] - 4s 48us/sample - loss: 0.1012 - binary_accuracy: 0.9661 - val_loss: 0.0914 - val_binary_accuracy: 0.9772\n",
      "Epoch 23/100\n",
      "85334/85334 [==============================] - 4s 47us/sample - loss: 0.1006 - binary_accuracy: 0.9670 - val_loss: 0.1030 - val_binary_accuracy: 0.9755\n",
      "Epoch 24/100\n",
      "85334/85334 [==============================] - 4s 47us/sample - loss: 0.0966 - binary_accuracy: 0.9675 - val_loss: 0.0857 - val_binary_accuracy: 0.9806\n",
      "Epoch 25/100\n",
      "85334/85334 [==============================] - 4s 47us/sample - loss: 0.0978 - binary_accuracy: 0.9665 - val_loss: 0.0942 - val_binary_accuracy: 0.9771\n",
      "Epoch 26/100\n",
      "85334/85334 [==============================] - 1539s 18ms/sample - loss: 0.0966 - binary_accuracy: 0.9675 - val_loss: 0.0885 - val_binary_accuracy: 0.9745\n",
      "Epoch 27/100\n",
      "85334/85334 [==============================] - 6s 71us/sample - loss: 0.1003 - binary_accuracy: 0.9658 - val_loss: 0.0993 - val_binary_accuracy: 0.9766\n",
      "Epoch 28/100\n",
      "85334/85334 [==============================] - 6s 67us/sample - loss: 0.1000 - binary_accuracy: 0.9658 - val_loss: 0.0814 - val_binary_accuracy: 0.9749\n",
      "Epoch 29/100\n",
      "85334/85334 [==============================] - 4s 52us/sample - loss: 0.0963 - binary_accuracy: 0.9669 - val_loss: 0.0846 - val_binary_accuracy: 0.9760\n",
      "Epoch 30/100\n",
      "85334/85334 [==============================] - 4s 52us/sample - loss: 0.0969 - binary_accuracy: 0.9666 - val_loss: 0.0878 - val_binary_accuracy: 0.9731\n",
      "Epoch 31/100\n",
      "85334/85334 [==============================] - 5s 56us/sample - loss: 0.0952 - binary_accuracy: 0.9672 - val_loss: 0.0848 - val_binary_accuracy: 0.9756\n",
      "Epoch 32/100\n",
      "85334/85334 [==============================] - 5s 54us/sample - loss: 0.0967 - binary_accuracy: 0.9666 - val_loss: 0.0817 - val_binary_accuracy: 0.9747\n",
      "Epoch 33/100\n",
      "85334/85334 [==============================] - 4s 53us/sample - loss: 0.0953 - binary_accuracy: 0.9667 - val_loss: 0.0875 - val_binary_accuracy: 0.9793\n",
      "Epoch 34/100\n",
      "85334/85334 [==============================] - 5s 53us/sample - loss: 0.0967 - binary_accuracy: 0.9667 - val_loss: 0.0882 - val_binary_accuracy: 0.9752\n",
      "Epoch 35/100\n",
      "85334/85334 [==============================] - 4s 51us/sample - loss: 0.0973 - binary_accuracy: 0.9668 - val_loss: 0.0825 - val_binary_accuracy: 0.9730\n",
      "Epoch 36/100\n",
      "85334/85334 [==============================] - 4s 52us/sample - loss: 0.0911 - binary_accuracy: 0.9674 - val_loss: 0.0927 - val_binary_accuracy: 0.9734\n",
      "Epoch 37/100\n",
      "85334/85334 [==============================] - 4s 53us/sample - loss: 0.0945 - binary_accuracy: 0.9666 - val_loss: 0.0753 - val_binary_accuracy: 0.9731\n",
      "Epoch 38/100\n",
      "85334/85334 [==============================] - 4s 52us/sample - loss: 0.0943 - binary_accuracy: 0.9673 - val_loss: 0.0900 - val_binary_accuracy: 0.9725\n",
      "Epoch 39/100\n",
      "85334/85334 [==============================] - 4s 51us/sample - loss: 0.0929 - binary_accuracy: 0.9681 - val_loss: 0.0830 - val_binary_accuracy: 0.9699\n",
      "Epoch 40/100\n",
      "85334/85334 [==============================] - 4s 50us/sample - loss: 0.0956 - binary_accuracy: 0.9670 - val_loss: 0.0825 - val_binary_accuracy: 0.9729\n",
      "Epoch 41/100\n",
      "85334/85334 [==============================] - 4s 51us/sample - loss: 0.0938 - binary_accuracy: 0.9668 - val_loss: 0.0799 - val_binary_accuracy: 0.9708\n",
      "Epoch 42/100\n",
      "85334/85334 [==============================] - 4s 52us/sample - loss: 0.0942 - binary_accuracy: 0.9675 - val_loss: 0.0859 - val_binary_accuracy: 0.9705\n",
      "Epoch 43/100\n",
      "85334/85334 [==============================] - 4s 52us/sample - loss: 0.0915 - binary_accuracy: 0.9676 - val_loss: 0.0977 - val_binary_accuracy: 0.9656\n",
      "Epoch 44/100\n",
      "85334/85334 [==============================] - 4s 51us/sample - loss: 0.0903 - binary_accuracy: 0.9681 - val_loss: 0.0782 - val_binary_accuracy: 0.9685\n",
      "Epoch 45/100\n",
      "85334/85334 [==============================] - 4s 50us/sample - loss: 0.0945 - binary_accuracy: 0.9670 - val_loss: 0.0848 - val_binary_accuracy: 0.9688\n",
      "Epoch 46/100\n",
      "85334/85334 [==============================] - 4s 50us/sample - loss: 0.0905 - binary_accuracy: 0.9682 - val_loss: 0.0967 - val_binary_accuracy: 0.9652\n",
      "Epoch 47/100\n",
      "85334/85334 [==============================] - 4s 49us/sample - loss: 0.0912 - binary_accuracy: 0.9685 - val_loss: 0.0854 - val_binary_accuracy: 0.9703\n"
     ]
    }
   ],
   "source": [
    "PATIENCE = 10\n",
    "\n",
    "nn_model_history = nn_model.fit(\n",
    "    prep_train_data,\n",
    "    train_labels.values,\n",
    "    batch_size=32,\n",
    "    validation_data=(prep_val_data,val_labels),\n",
    "    epochs=100,\n",
    "    callbacks=[\n",
    "        keras.callbacks.ModelCheckpoint(str(TEMP_DIR/'nn_model.h5'), save_best_only=True),\n",
    "        keras.callbacks.ReduceLROnPlateau(factor=0.3, patience=PATIENCE),\n",
    "        keras.callbacks.EarlyStopping(patience=PATIENCE, restore_best_weights=True),\n",
    "        keras.callbacks.TensorBoard(log_dir=str(TEMP_DIR/'nn_model_logs')),\n",
    "    ]\n",
    ")"
   ]
  },
  {
   "cell_type": "code",
   "execution_count": 172,
   "metadata": {
    "scrolled": true
   },
   "outputs": [
    {
     "data": {
      "image/png": "[encoded data removed]",
      "text/plain": [
       "<Figure size 432x288 with 1 Axes>"
      ]
     },
     "metadata": {
      "needs_background": "light"
     },
     "output_type": "display_data"
    }
   ],
   "source": [
    "plot_history(nn_model_history, 'loss', 4)"
   ]
  },
  {
   "cell_type": "code",
   "execution_count": 490,
   "metadata": {
    "scrolled": false
   },
   "outputs": [
    {
     "name": "stdout",
     "output_type": "stream",
     "text": [
      "42658/42658 [==============================] - 1s 18us/sample - loss: 0.0674 - binary_accuracy: 0.9804\n"
     ]
    },
    {
     "data": {
      "text/plain": [
       "[0.06736426367432506, 0.9803788]"
      ]
     },
     "execution_count": 490,
     "metadata": {},
     "output_type": "execute_result"
    }
   ],
   "source": [
    "nn_model.evaluate(preprocess_pipeline.transform(test_data[data_params.features]), test_data[data_params.target])"
   ]
  },
  {
   "cell_type": "code",
   "execution_count": 173,
   "metadata": {},
   "outputs": [],
   "source": [
    "test_probabilities = nn_model.predict(preprocess_pipeline.transform(test_data[data_params.features]))"
   ]
  },
  {
   "cell_type": "code",
   "execution_count": 174,
   "metadata": {},
   "outputs": [],
   "source": [
    "treshold = 0.5\n",
    "test_preds = (test_probabilities >= treshold)"
   ]
  },
  {
   "cell_type": "code",
   "execution_count": 181,
   "metadata": {
    "scrolled": true
   },
   "outputs": [
    {
     "name": "stdout",
     "output_type": "stream",
     "text": [
      "[[21997    41]\n",
      " [  628  5776]]\n"
     ]
    }
   ],
   "source": [
    "print(confusion_matrix(test_data[data_params.target].astype(int), test_preds))"
   ]
  },
  {
   "cell_type": "code",
   "execution_count": 182,
   "metadata": {
    "scrolled": false
   },
   "outputs": [
    {
     "name": "stdout",
     "output_type": "stream",
     "text": [
      "              precision    recall  f1-score   support\n",
      "\n",
      "           0       0.97      1.00      0.99     22038\n",
      "           1       0.99      0.90      0.95      6404\n",
      "\n",
      "    accuracy                           0.98     28442\n",
      "   macro avg       0.98      0.95      0.97     28442\n",
      "weighted avg       0.98      0.98      0.98     28442\n",
      "\n"
     ]
    }
   ],
   "source": [
    "print(classification_report(test_data[data_params.target].astype(int), test_preds))"
   ]
  },
  {
   "cell_type": "markdown",
   "metadata": {},
   "source": [
    "Although not as good as RF but also great result!"
   ]
  },
  {
   "cell_type": "markdown",
   "metadata": {},
   "source": [
    "## Preprocessing for Embedded model"
   ]
  },
  {
   "cell_type": "markdown",
   "metadata": {},
   "source": [
    "Need to create separate pipelines for Embedded models to retain column names for easier dimensions extraction."
   ]
  },
  {
   "cell_type": "code",
   "execution_count": 326,
   "metadata": {},
   "outputs": [],
   "source": [
    "cat_pipeline = Pipeline([\n",
    "    ('imputer', CategoricalInputer(data_params.categorical)),\n",
    "    ('encoder', CategoricalEncoder(data_params.categorical)),\n",
    "])"
   ]
  },
  {
   "cell_type": "code",
   "execution_count": 327,
   "metadata": {},
   "outputs": [],
   "source": [
    "num_pipeline = Pipeline([\n",
    "    ('imputer', NumericInputer()),\n",
    "    ('polynomial_features', PolynomialFeatures()),\n",
    "    ('scaler', RobustScaler()),\n",
    "])"
   ]
  },
  {
   "cell_type": "code",
   "execution_count": 328,
   "metadata": {},
   "outputs": [],
   "source": [
    "preprocess_pipeline = ColumnTransformer([\n",
    "    (\"num\", num_pipeline, data_params.continuous),\n",
    "    (\"cat\", cat_pipeline, data_params.categorical),\n",
    "])"
   ]
  },
  {
   "cell_type": "code",
   "execution_count": 329,
   "metadata": {},
   "outputs": [],
   "source": [
    "cat_prep_train_data = cat_pipeline.fit_transform(train_data[data_params.categorical])\n",
    "con_prep_train_data = num_pipeline.fit_transform(train_data[data_params.continuous])\n",
    "cat_prep_val_data = cat_pipeline.transform(val_data[data_params.categorical])\n",
    "con_prep_val_data = num_pipeline.transform(val_data[data_params.continuous])"
   ]
  },
  {
   "cell_type": "code",
   "execution_count": 330,
   "metadata": {
    "scrolled": true
   },
   "outputs": [
    {
     "data": {
      "text/plain": [
       "{'Location': 52,\n",
       " 'Location_na': 52,\n",
       " 'WindGustDir': 52,\n",
       " 'WindGustDir_na': 52,\n",
       " 'WindDir9am': 52,\n",
       " 'WindDir9am_na': 52,\n",
       " 'WindDir3pm': 52,\n",
       " 'WindDir3pm_na': 52,\n",
       " 'RainToday': 52,\n",
       " 'RainToday_na': 52}"
      ]
     },
     "execution_count": 330,
     "metadata": {},
     "output_type": "execute_result"
    }
   ],
   "source": [
    "cat_feature_dims = {cat_col: len(np.unique(\n",
    "    cat_prep_train_data[cat_prep_train_data.columns])) + 2 for cat_col in cat_prep_train_data.columns}\n",
    "cat_feature_dims"
   ]
  },
  {
   "cell_type": "code",
   "execution_count": 441,
   "metadata": {},
   "outputs": [],
   "source": [
    "prep_train_data = np.concatenate((cat_prep_train_data.values, con_prep_train_data), axis=1)\n",
    "prep_val_data = np.concatenate((cat_prep_val_data.values, con_prep_val_data), axis=1)"
   ]
  },
  {
   "cell_type": "markdown",
   "metadata": {},
   "source": [
    "### Creating embedding model"
   ]
  },
  {
   "cell_type": "code",
   "execution_count": 403,
   "metadata": {
    "scrolled": false
   },
   "outputs": [],
   "source": [
    "def make_embedding_model(\n",
    "    cat_feature_dims,\n",
    "    n_cont_features,\n",
    "    layer_size=256,\n",
    "    dropout_rate=0.0,\n",
    "    l2_regularization=1e-8,\n",
    "    n_layers=1,\n",
    "):\n",
    "\n",
    "    inputs = []\n",
    "    embeddings = []\n",
    "    for cat_feature_dim in cat_feature_dims.values():\n",
    "        x = tf.keras.layers.Input(shape=(1,))\n",
    "        inputs.append(x)\n",
    "        x = tf.keras.layers.Embedding(\n",
    "            cat_feature_dim, np.sqrt(cat_feature_dim).astype(int) + 1, input_length=1\n",
    "        )(x)\n",
    "        x = tf.keras.layers.Flatten()(x)\n",
    "        embeddings.append(x)\n",
    "\n",
    "    cont_inputs = tf.keras.layers.Input(shape=(n_cont_features,))\n",
    "    inputs.append(cont_inputs)\n",
    "    embeddings.append(cont_inputs)\n",
    "\n",
    "    x = tf.keras.layers.Concatenate()(embeddings)\n",
    "\n",
    "    for _ in range(n_layers):\n",
    "        x = tf.keras.layers.BatchNormalization()(x)\n",
    "        x = tf.keras.layers.Dropout(dropout_rate)(x)\n",
    "        x = tf.keras.layers.Dense(\n",
    "            layer_size,\n",
    "            kernel_initializer=\"he_uniform\",\n",
    "            kernel_regularizer=tf.keras.regularizers.l2(l2_regularization),\n",
    "        )(x)\n",
    "        x = tf.keras.layers.LeakyReLU()(x)\n",
    "\n",
    "    x = tf.keras.layers.Dense(2, activation=\"softmax\")(x)\n",
    "\n",
    "    model = tf.keras.Model(inputs=inputs, outputs=x)\n",
    "    \n",
    "    return model"
   ]
  },
  {
   "cell_type": "code",
   "execution_count": 404,
   "metadata": {},
   "outputs": [
    {
     "name": "stdout",
     "output_type": "stream",
     "text": [
      "10\n"
     ]
    }
   ],
   "source": [
    "nn_embedded_model = make_embedding_model(\n",
    "    cat_feature_dims = cat_feature_dims,\n",
    "    n_cont_features = len(con_prep_train_data),\n",
    "    layer_size=256,\n",
    "    dropout_rate=0.1,\n",
    "    l2_regularization=1e-8,\n",
    "    n_layers=3,\n",
    ")"
   ]
  },
  {
   "cell_type": "code",
   "execution_count": 405,
   "metadata": {},
   "outputs": [],
   "source": [
    "nn_embedded_model.compile(\n",
    "    optimizer=tf.keras.optimizers.Adam(1e-3),\n",
    "    loss=keras.losses.binary_crossentropy,\n",
    "    metrics=[\n",
    "        tf.keras.metrics.binary_accuracy,\n",
    "    ]\n",
    ")"
   ]
  },
  {
   "cell_type": "code",
   "execution_count": 425,
   "metadata": {
    "collapsed": true
   },
   "outputs": [
    {
     "name": "stdout",
     "output_type": "stream",
     "text": [
      "Model: \"model_26\"\n",
      "__________________________________________________________________________________________________\n",
      "Layer (type)                    Output Shape         Param #     Connected to                     \n",
      "==================================================================================================\n",
      "input_275 (InputLayer)          [(None, 1)]          0                                            \n",
      "__________________________________________________________________________________________________\n",
      "input_276 (InputLayer)          [(None, 1)]          0                                            \n",
      "__________________________________________________________________________________________________\n",
      "input_277 (InputLayer)          [(None, 1)]          0                                            \n",
      "__________________________________________________________________________________________________\n",
      "input_278 (InputLayer)          [(None, 1)]          0                                            \n",
      "__________________________________________________________________________________________________\n",
      "input_279 (InputLayer)          [(None, 1)]          0                                            \n",
      "__________________________________________________________________________________________________\n",
      "input_280 (InputLayer)          [(None, 1)]          0                                            \n",
      "__________________________________________________________________________________________________\n",
      "input_281 (InputLayer)          [(None, 1)]          0                                            \n",
      "__________________________________________________________________________________________________\n",
      "input_282 (InputLayer)          [(None, 1)]          0                                            \n",
      "__________________________________________________________________________________________________\n",
      "input_283 (InputLayer)          [(None, 1)]          0                                            \n",
      "__________________________________________________________________________________________________\n",
      "input_284 (InputLayer)          [(None, 1)]          0                                            \n",
      "__________________________________________________________________________________________________\n",
      "embedding_245 (Embedding)       (None, 1, 8)         416         input_275[0][0]                  \n",
      "__________________________________________________________________________________________________\n",
      "embedding_246 (Embedding)       (None, 1, 8)         416         input_276[0][0]                  \n",
      "__________________________________________________________________________________________________\n",
      "embedding_247 (Embedding)       (None, 1, 8)         416         input_277[0][0]                  \n",
      "__________________________________________________________________________________________________\n",
      "embedding_248 (Embedding)       (None, 1, 8)         416         input_278[0][0]                  \n",
      "__________________________________________________________________________________________________\n",
      "embedding_249 (Embedding)       (None, 1, 8)         416         input_279[0][0]                  \n",
      "__________________________________________________________________________________________________\n",
      "embedding_250 (Embedding)       (None, 1, 8)         416         input_280[0][0]                  \n",
      "__________________________________________________________________________________________________\n",
      "embedding_251 (Embedding)       (None, 1, 8)         416         input_281[0][0]                  \n",
      "__________________________________________________________________________________________________\n",
      "embedding_252 (Embedding)       (None, 1, 8)         416         input_282[0][0]                  \n",
      "__________________________________________________________________________________________________\n",
      "embedding_253 (Embedding)       (None, 1, 8)         416         input_283[0][0]                  \n",
      "__________________________________________________________________________________________________\n",
      "embedding_254 (Embedding)       (None, 1, 8)         416         input_284[0][0]                  \n",
      "__________________________________________________________________________________________________\n",
      "flatten_245 (Flatten)           (None, 8)            0           embedding_245[0][0]              \n",
      "__________________________________________________________________________________________________\n",
      "flatten_246 (Flatten)           (None, 8)            0           embedding_246[0][0]              \n",
      "__________________________________________________________________________________________________\n",
      "flatten_247 (Flatten)           (None, 8)            0           embedding_247[0][0]              \n",
      "__________________________________________________________________________________________________\n",
      "flatten_248 (Flatten)           (None, 8)            0           embedding_248[0][0]              \n",
      "__________________________________________________________________________________________________\n",
      "flatten_249 (Flatten)           (None, 8)            0           embedding_249[0][0]              \n",
      "__________________________________________________________________________________________________\n",
      "flatten_250 (Flatten)           (None, 8)            0           embedding_250[0][0]              \n",
      "__________________________________________________________________________________________________\n",
      "flatten_251 (Flatten)           (None, 8)            0           embedding_251[0][0]              \n",
      "__________________________________________________________________________________________________\n",
      "flatten_252 (Flatten)           (None, 8)            0           embedding_252[0][0]              \n",
      "__________________________________________________________________________________________________\n",
      "flatten_253 (Flatten)           (None, 8)            0           embedding_253[0][0]              \n",
      "__________________________________________________________________________________________________\n",
      "flatten_254 (Flatten)           (None, 8)            0           embedding_254[0][0]              \n",
      "__________________________________________________________________________________________________\n",
      "input_285 (InputLayer)          [(None, 85334)]      0                                            \n",
      "__________________________________________________________________________________________________\n",
      "concatenate_26 (Concatenate)    (None, 85414)        0           flatten_245[0][0]                \n",
      "                                                                 flatten_246[0][0]                \n",
      "                                                                 flatten_247[0][0]                \n",
      "                                                                 flatten_248[0][0]                \n",
      "                                                                 flatten_249[0][0]                \n",
      "                                                                 flatten_250[0][0]                \n",
      "                                                                 flatten_251[0][0]                \n",
      "                                                                 flatten_252[0][0]                \n",
      "                                                                 flatten_253[0][0]                \n",
      "                                                                 flatten_254[0][0]                \n",
      "                                                                 input_285[0][0]                  \n",
      "__________________________________________________________________________________________________\n",
      "batch_normalization_79 (BatchNo (None, 85414)        341656      concatenate_26[0][0]             \n",
      "__________________________________________________________________________________________________\n",
      "dropout_79 (Dropout)            (None, 85414)        0           batch_normalization_79[0][0]     \n",
      "__________________________________________________________________________________________________\n",
      "dense_106 (Dense)               (None, 256)          21866240    dropout_79[0][0]                 \n",
      "__________________________________________________________________________________________________\n",
      "leaky_re_lu_79 (LeakyReLU)      (None, 256)          0           dense_106[0][0]                  \n",
      "__________________________________________________________________________________________________\n",
      "batch_normalization_80 (BatchNo (None, 256)          1024        leaky_re_lu_79[0][0]             \n",
      "__________________________________________________________________________________________________\n",
      "dropout_80 (Dropout)            (None, 256)          0           batch_normalization_80[0][0]     \n",
      "__________________________________________________________________________________________________\n",
      "dense_107 (Dense)               (None, 256)          65792       dropout_80[0][0]                 \n",
      "__________________________________________________________________________________________________\n",
      "leaky_re_lu_80 (LeakyReLU)      (None, 256)          0           dense_107[0][0]                  \n",
      "__________________________________________________________________________________________________\n",
      "batch_normalization_81 (BatchNo (None, 256)          1024        leaky_re_lu_80[0][0]             \n",
      "__________________________________________________________________________________________________\n",
      "dropout_81 (Dropout)            (None, 256)          0           batch_normalization_81[0][0]     \n",
      "__________________________________________________________________________________________________\n",
      "dense_108 (Dense)               (None, 256)          65792       dropout_81[0][0]                 \n",
      "__________________________________________________________________________________________________\n",
      "leaky_re_lu_81 (LeakyReLU)      (None, 256)          0           dense_108[0][0]                  \n",
      "__________________________________________________________________________________________________\n",
      "dense_109 (Dense)               (None, 2)            514         leaky_re_lu_81[0][0]             \n",
      "==================================================================================================\n",
      "Total params: 22,346,202\n",
      "Trainable params: 22,174,350\n",
      "Non-trainable params: 171,852\n",
      "__________________________________________________________________________________________________\n"
     ]
    }
   ],
   "source": [
    "nn_embedded_model.summary()"
   ]
  },
  {
   "cell_type": "code",
   "execution_count": 436,
   "metadata": {},
   "outputs": [],
   "source": [
    "df_train_cat = pd.DataFrame(cat_prep_train_data.values)\n",
    "df_val_cat = pd.DataFrame(cat_prep_val_data.values)\n",
    "df_train_cont = pd.DataFrame(con_prep_train_data)\n",
    "df_val_cont = pd.DataFrame(con_prep_val_data)"
   ]
  },
  {
   "cell_type": "code",
   "execution_count": 438,
   "metadata": {},
   "outputs": [],
   "source": [
    "emb_train_data = [df_train_cat[x] for x in df_train_cat] + [df_train_cont]\n",
    "emb_val_data = [df_val_cat[x] for x in df_val_cat] + [df_val_cont]"
   ]
  },
  {
   "cell_type": "markdown",
   "metadata": {},
   "source": [
    "### Train embedding model"
   ]
  },
  {
   "cell_type": "code",
   "execution_count": 442,
   "metadata": {},
   "outputs": [
    {
     "ename": "ValueError",
     "evalue": "Error when checking model input: the list of Numpy arrays that you are passing to your model is not the size the model expected. Expected to see 11 array(s), but instead got the following list of 1 arrays: [array([[ 1.,  0.,  8., ...,  1.,  0.,  0.],\n       [ 1.,  0., 13., ...,  0.,  0.,  0.],\n       [ 1.,  0., 14., ...,  0.,  0.,  0.],\n       ...,\n       [49.,  0., 11., ...,  0.,  0.,  0.],\n       [49....",
     "output_type": "error",
     "traceback": [
      "\u001b[0;31m---------------------------------------------------------------------------\u001b[0m",
      "\u001b[0;31mValueError\u001b[0m                                Traceback (most recent call last)",
      "\u001b[0;32m<ipython-input-442-19239a3b945d>\u001b[0m in \u001b[0;36m<module>\u001b[0;34m\u001b[0m\n\u001b[1;32m     12\u001b[0m         \u001b[0mtf\u001b[0m\u001b[0;34m.\u001b[0m\u001b[0mkeras\u001b[0m\u001b[0;34m.\u001b[0m\u001b[0mcallbacks\u001b[0m\u001b[0;34m.\u001b[0m\u001b[0mReduceLROnPlateau\u001b[0m\u001b[0;34m(\u001b[0m\u001b[0mfactor\u001b[0m\u001b[0;34m=\u001b[0m\u001b[0;36m0.3\u001b[0m\u001b[0;34m,\u001b[0m \u001b[0mpatience\u001b[0m\u001b[0;34m=\u001b[0m\u001b[0mPATIENCE\u001b[0m\u001b[0;34m)\u001b[0m\u001b[0;34m,\u001b[0m\u001b[0;34m\u001b[0m\u001b[0;34m\u001b[0m\u001b[0m\n\u001b[1;32m     13\u001b[0m         \u001b[0mtf\u001b[0m\u001b[0;34m.\u001b[0m\u001b[0mkeras\u001b[0m\u001b[0;34m.\u001b[0m\u001b[0mcallbacks\u001b[0m\u001b[0;34m.\u001b[0m\u001b[0mEarlyStopping\u001b[0m\u001b[0;34m(\u001b[0m\u001b[0mpatience\u001b[0m\u001b[0;34m=\u001b[0m\u001b[0mPATIENCE\u001b[0m \u001b[0;34m*\u001b[0m \u001b[0;36m3\u001b[0m\u001b[0;34m,\u001b[0m \u001b[0mrestore_best_weights\u001b[0m\u001b[0;34m=\u001b[0m\u001b[0;32mTrue\u001b[0m\u001b[0;34m)\u001b[0m\u001b[0;34m,\u001b[0m\u001b[0;34m\u001b[0m\u001b[0;34m\u001b[0m\u001b[0m\n\u001b[0;32m---> 14\u001b[0;31m         \u001b[0mtf\u001b[0m\u001b[0;34m.\u001b[0m\u001b[0mkeras\u001b[0m\u001b[0;34m.\u001b[0m\u001b[0mcallbacks\u001b[0m\u001b[0;34m.\u001b[0m\u001b[0mTensorBoard\u001b[0m\u001b[0;34m(\u001b[0m\u001b[0mlog_dir\u001b[0m\u001b[0;34m=\u001b[0m\u001b[0mstr\u001b[0m\u001b[0;34m(\u001b[0m\u001b[0mTEMP_DIR\u001b[0m\u001b[0;34m/\u001b[0m\u001b[0;34m'logs'\u001b[0m\u001b[0;34m)\u001b[0m\u001b[0;34m)\u001b[0m\u001b[0;34m,\u001b[0m\u001b[0;34m\u001b[0m\u001b[0;34m\u001b[0m\u001b[0m\n\u001b[0m\u001b[1;32m     15\u001b[0m     ],\n\u001b[1;32m     16\u001b[0m )\n",
      "\u001b[0;32m/usr/local/lib/python3.7/site-packages/tensorflow/python/keras/engine/training.py\u001b[0m in \u001b[0;36mfit\u001b[0;34m(self, x, y, batch_size, epochs, verbose, callbacks, validation_split, validation_data, shuffle, class_weight, sample_weight, initial_epoch, steps_per_epoch, validation_steps, validation_freq, max_queue_size, workers, use_multiprocessing, **kwargs)\u001b[0m\n\u001b[1;32m    641\u001b[0m         \u001b[0mmax_queue_size\u001b[0m\u001b[0;34m=\u001b[0m\u001b[0mmax_queue_size\u001b[0m\u001b[0;34m,\u001b[0m\u001b[0;34m\u001b[0m\u001b[0;34m\u001b[0m\u001b[0m\n\u001b[1;32m    642\u001b[0m         \u001b[0mworkers\u001b[0m\u001b[0;34m=\u001b[0m\u001b[0mworkers\u001b[0m\u001b[0;34m,\u001b[0m\u001b[0;34m\u001b[0m\u001b[0;34m\u001b[0m\u001b[0m\n\u001b[0;32m--> 643\u001b[0;31m         use_multiprocessing=use_multiprocessing)\n\u001b[0m\u001b[1;32m    644\u001b[0m \u001b[0;34m\u001b[0m\u001b[0m\n\u001b[1;32m    645\u001b[0m   def evaluate(self,\n",
      "\u001b[0;32m/usr/local/lib/python3.7/site-packages/tensorflow/python/keras/engine/training_arrays.py\u001b[0m in \u001b[0;36mfit\u001b[0;34m(self, model, x, y, batch_size, epochs, verbose, callbacks, validation_split, validation_data, shuffle, class_weight, sample_weight, initial_epoch, steps_per_epoch, validation_steps, validation_freq, **kwargs)\u001b[0m\n\u001b[1;32m    630\u001b[0m         \u001b[0msteps\u001b[0m\u001b[0;34m=\u001b[0m\u001b[0msteps_per_epoch\u001b[0m\u001b[0;34m,\u001b[0m\u001b[0;34m\u001b[0m\u001b[0;34m\u001b[0m\u001b[0m\n\u001b[1;32m    631\u001b[0m         \u001b[0mvalidation_split\u001b[0m\u001b[0;34m=\u001b[0m\u001b[0mvalidation_split\u001b[0m\u001b[0;34m,\u001b[0m\u001b[0;34m\u001b[0m\u001b[0;34m\u001b[0m\u001b[0m\n\u001b[0;32m--> 632\u001b[0;31m         shuffle=shuffle)\n\u001b[0m\u001b[1;32m    633\u001b[0m \u001b[0;34m\u001b[0m\u001b[0m\n\u001b[1;32m    634\u001b[0m     \u001b[0;32mif\u001b[0m \u001b[0mvalidation_data\u001b[0m\u001b[0;34m:\u001b[0m\u001b[0;34m\u001b[0m\u001b[0;34m\u001b[0m\u001b[0m\n",
      "\u001b[0;32m/usr/local/lib/python3.7/site-packages/tensorflow/python/keras/engine/training.py\u001b[0m in \u001b[0;36m_standardize_user_data\u001b[0;34m(self, x, y, sample_weight, class_weight, batch_size, check_steps, steps_name, steps, validation_split, shuffle, extract_tensors_from_dataset)\u001b[0m\n\u001b[1;32m   2426\u001b[0m           \u001b[0mfeed_input_shapes\u001b[0m\u001b[0;34m,\u001b[0m\u001b[0;34m\u001b[0m\u001b[0;34m\u001b[0m\u001b[0m\n\u001b[1;32m   2427\u001b[0m           \u001b[0mcheck_batch_axis\u001b[0m\u001b[0;34m=\u001b[0m\u001b[0;32mFalse\u001b[0m\u001b[0;34m,\u001b[0m  \u001b[0;31m# Don't enforce the batch size.\u001b[0m\u001b[0;34m\u001b[0m\u001b[0;34m\u001b[0m\u001b[0m\n\u001b[0;32m-> 2428\u001b[0;31m           exception_prefix='input')\n\u001b[0m\u001b[1;32m   2429\u001b[0m \u001b[0;34m\u001b[0m\u001b[0m\n\u001b[1;32m   2430\u001b[0m     \u001b[0;32mif\u001b[0m \u001b[0my\u001b[0m \u001b[0;32mis\u001b[0m \u001b[0;32mnot\u001b[0m \u001b[0;32mNone\u001b[0m\u001b[0;34m:\u001b[0m\u001b[0;34m\u001b[0m\u001b[0;34m\u001b[0m\u001b[0m\n",
      "\u001b[0;32m/usr/local/lib/python3.7/site-packages/tensorflow/python/keras/engine/training_utils.py\u001b[0m in \u001b[0;36mstandardize_input_data\u001b[0;34m(data, names, shapes, check_batch_axis, exception_prefix)\u001b[0m\n\u001b[1;32m    477\u001b[0m                        \u001b[0;34m'Expected to see '\u001b[0m \u001b[0;34m+\u001b[0m \u001b[0mstr\u001b[0m\u001b[0;34m(\u001b[0m\u001b[0mlen\u001b[0m\u001b[0;34m(\u001b[0m\u001b[0mnames\u001b[0m\u001b[0;34m)\u001b[0m\u001b[0;34m)\u001b[0m \u001b[0;34m+\u001b[0m \u001b[0;34m' array(s), '\u001b[0m\u001b[0;34m\u001b[0m\u001b[0;34m\u001b[0m\u001b[0m\n\u001b[1;32m    478\u001b[0m                        \u001b[0;34m'but instead got the following list of '\u001b[0m \u001b[0;34m+\u001b[0m\u001b[0;34m\u001b[0m\u001b[0;34m\u001b[0m\u001b[0m\n\u001b[0;32m--> 479\u001b[0;31m                        str(len(data)) + ' arrays: ' + str(data)[:200] + '...')\n\u001b[0m\u001b[1;32m    480\u001b[0m     \u001b[0;32melif\u001b[0m \u001b[0mlen\u001b[0m\u001b[0;34m(\u001b[0m\u001b[0mnames\u001b[0m\u001b[0;34m)\u001b[0m \u001b[0;34m>\u001b[0m \u001b[0;36m1\u001b[0m\u001b[0;34m:\u001b[0m\u001b[0;34m\u001b[0m\u001b[0;34m\u001b[0m\u001b[0m\n\u001b[1;32m    481\u001b[0m       raise ValueError('Error when checking model ' + exception_prefix +\n",
      "\u001b[0;31mValueError\u001b[0m: Error when checking model input: the list of Numpy arrays that you are passing to your model is not the size the model expected. Expected to see 11 array(s), but instead got the following list of 1 arrays: [array([[ 1.,  0.,  8., ...,  1.,  0.,  0.],\n       [ 1.,  0., 13., ...,  0.,  0.,  0.],\n       [ 1.,  0., 14., ...,  0.,  0.,  0.],\n       ...,\n       [49.,  0., 11., ...,  0.,  0.,  0.],\n       [49...."
     ]
    }
   ],
   "source": [
    "PATIENCE = 10\n",
    "\n",
    "nn_embedded_model_history = nn_embedded_model.fit(\n",
    "    prep_train_data,\n",
    "    train_data[data_params.target].values,\n",
    "    validation_data=(emb_val_data,val_data[data_params.target].values),\n",
    "    batch_size=32,\n",
    "    epochs=100,\n",
    "    shuffle=False,\n",
    "    callbacks=[\n",
    "        tf.keras.callbacks.ModelCheckpoint(str(TEMP_DIR/'nn_model.h5'), save_best_only=True),\n",
    "        tf.keras.callbacks.ReduceLROnPlateau(factor=0.3, patience=PATIENCE),\n",
    "        tf.keras.callbacks.EarlyStopping(patience=PATIENCE * 3, restore_best_weights=True),\n",
    "        tf.keras.callbacks.TensorBoard(log_dir=str(TEMP_DIR/'logs')),\n",
    "    ],\n",
    ")"
   ]
  },
  {
   "cell_type": "code",
   "execution_count": null,
   "metadata": {},
   "outputs": [],
   "source": []
  },
  {
   "cell_type": "code",
   "execution_count": null,
   "metadata": {},
   "outputs": [],
   "source": [
    "evaluate_pipeline(\n",
    "    pipeline=nn_model,\n",
    "    datasets=[[train_data, train_labels], [val_data, val_labels]],\n",
    "    label_pipeline=label_pipeline,\n",
    "    preprocess_pipeline=preprocess_pipeline,\n",
    "    metrics=[mean_absolute_error, mean_squared_error, explained_variance_score],\n",
    ")"
   ]
  }
 ],
 "metadata": {
  "kernelspec": {
   "display_name": "Python 3",
   "language": "python",
   "name": "python3"
  },
  "language_info": {
   "codemirror_mode": {
    "name": "ipython",
    "version": 3
   },
   "file_extension": ".py",
   "mimetype": "text/x-python",
   "name": "python",
   "nbconvert_exporter": "python",
   "pygments_lexer": "ipython3",
   "version": "3.7.3"
  },
  "toc": {
   "base_numbering": 1,
   "nav_menu": {},
   "number_sections": true,
   "sideBar": true,
   "skip_h1_title": false,
   "title_cell": "Table of Contents",
   "title_sidebar": "Contents",
   "toc_cell": false,
   "toc_position": {},
   "toc_section_display": true,
   "toc_window_display": false
  }
 },
 "nbformat": 4,
 "nbformat_minor": 2
}
